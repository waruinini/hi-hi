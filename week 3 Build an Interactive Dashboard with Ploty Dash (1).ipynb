{
 "cells": [
  {
   "cell_type": "code",
   "execution_count": 2,
   "id": "64b718fb-116e-4037-b9d6-faa3d3158755",
   "metadata": {
    "tags": []
   },
   "outputs": [],
   "source": [
    "import wget\n",
    "import pandas as pd\n",
    "import plotly.express as px\n",
    "import dash\n",
    "from dash import dcc\n",
    "from dash import html\n",
    "from dash.dependencies import Input, Output"
   ]
  },
  {
   "cell_type": "code",
   "execution_count": 3,
   "id": "f598e2b2-2f9f-4773-93d4-7df736519f0a",
   "metadata": {
    "tags": []
   },
   "outputs": [],
   "source": [
    "spacex_launch_dash=wget.download(\"https://cf-courses-data.s3.us.cloud-object-storage.appdomain.cloud/IBM-DS0321EN-SkillsNetwork/datasets/spacex_launch_dash.csv\")\n",
    "spacex_df=pd.read_csv(spacex_launch_dash)"
   ]
  },
  {
   "cell_type": "code",
   "execution_count": 4,
   "id": "0d669f1b-772b-4d73-b268-a3457fd2c0ef",
   "metadata": {
    "tags": []
   },
   "outputs": [
    {
     "data": {
      "text/html": [
       "<div>\n",
       "<style scoped>\n",
       "    .dataframe tbody tr th:only-of-type {\n",
       "        vertical-align: middle;\n",
       "    }\n",
       "\n",
       "    .dataframe tbody tr th {\n",
       "        vertical-align: top;\n",
       "    }\n",
       "\n",
       "    .dataframe thead th {\n",
       "        text-align: right;\n",
       "    }\n",
       "</style>\n",
       "<table border=\"1\" class=\"dataframe\">\n",
       "  <thead>\n",
       "    <tr style=\"text-align: right;\">\n",
       "      <th></th>\n",
       "      <th>Unnamed: 0</th>\n",
       "      <th>Flight Number</th>\n",
       "      <th>Launch Site</th>\n",
       "      <th>class</th>\n",
       "      <th>Payload Mass (kg)</th>\n",
       "      <th>Booster Version</th>\n",
       "      <th>Booster Version Category</th>\n",
       "    </tr>\n",
       "  </thead>\n",
       "  <tbody>\n",
       "    <tr>\n",
       "      <th>0</th>\n",
       "      <td>0</td>\n",
       "      <td>1</td>\n",
       "      <td>CCAFS LC-40</td>\n",
       "      <td>0</td>\n",
       "      <td>0.0</td>\n",
       "      <td>F9 v1.0  B0003</td>\n",
       "      <td>v1.0</td>\n",
       "    </tr>\n",
       "    <tr>\n",
       "      <th>1</th>\n",
       "      <td>1</td>\n",
       "      <td>2</td>\n",
       "      <td>CCAFS LC-40</td>\n",
       "      <td>0</td>\n",
       "      <td>0.0</td>\n",
       "      <td>F9 v1.0  B0004</td>\n",
       "      <td>v1.0</td>\n",
       "    </tr>\n",
       "    <tr>\n",
       "      <th>2</th>\n",
       "      <td>2</td>\n",
       "      <td>3</td>\n",
       "      <td>CCAFS LC-40</td>\n",
       "      <td>0</td>\n",
       "      <td>525.0</td>\n",
       "      <td>F9 v1.0  B0005</td>\n",
       "      <td>v1.0</td>\n",
       "    </tr>\n",
       "    <tr>\n",
       "      <th>3</th>\n",
       "      <td>3</td>\n",
       "      <td>4</td>\n",
       "      <td>CCAFS LC-40</td>\n",
       "      <td>0</td>\n",
       "      <td>500.0</td>\n",
       "      <td>F9 v1.0  B0006</td>\n",
       "      <td>v1.0</td>\n",
       "    </tr>\n",
       "    <tr>\n",
       "      <th>4</th>\n",
       "      <td>4</td>\n",
       "      <td>5</td>\n",
       "      <td>CCAFS LC-40</td>\n",
       "      <td>0</td>\n",
       "      <td>677.0</td>\n",
       "      <td>F9 v1.0  B0007</td>\n",
       "      <td>v1.0</td>\n",
       "    </tr>\n",
       "  </tbody>\n",
       "</table>\n",
       "</div>"
      ],
      "text/plain": [
       "   Unnamed: 0  Flight Number  Launch Site  class  Payload Mass (kg)  \\\n",
       "0           0              1  CCAFS LC-40      0                0.0   \n",
       "1           1              2  CCAFS LC-40      0                0.0   \n",
       "2           2              3  CCAFS LC-40      0              525.0   \n",
       "3           3              4  CCAFS LC-40      0              500.0   \n",
       "4           4              5  CCAFS LC-40      0              677.0   \n",
       "\n",
       "  Booster Version Booster Version Category  \n",
       "0  F9 v1.0  B0003                     v1.0  \n",
       "1  F9 v1.0  B0004                     v1.0  \n",
       "2  F9 v1.0  B0005                     v1.0  \n",
       "3  F9 v1.0  B0006                     v1.0  \n",
       "4  F9 v1.0  B0007                     v1.0  "
      ]
     },
     "execution_count": 4,
     "metadata": {},
     "output_type": "execute_result"
    }
   ],
   "source": [
    "spacex_df.head()"
   ]
  },
  {
   "cell_type": "code",
   "execution_count": 5,
   "id": "1d3ef476-36c8-4ad0-8be6-5495ab291159",
   "metadata": {
    "tags": []
   },
   "outputs": [],
   "source": [
    "min_payload=spacex_df['Payload Mass (kg)'].min()\n",
    "max_payload=spacex_df['Payload Mass (kg)'].max()"
   ]
  },
  {
   "cell_type": "code",
   "execution_count": 6,
   "id": "7f61226f-aa92-4efb-9175-23e55e5b0faf",
   "metadata": {
    "tags": []
   },
   "outputs": [
    {
     "data": {
      "text/html": [
       "\n",
       "        <iframe\n",
       "            width=\"100%\"\n",
       "            height=\"650\"\n",
       "            src=\"http://127.0.0.1:8050/\"\n",
       "            frameborder=\"0\"\n",
       "            allowfullscreen\n",
       "            \n",
       "        ></iframe>\n",
       "        "
      ],
      "text/plain": [
       "<IPython.lib.display.IFrame at 0x1e807f6acd0>"
      ]
     },
     "metadata": {},
     "output_type": "display_data"
    }
   ],
   "source": [
    "#create a dash application\n",
    "app=dash.Dash(__name__)\n",
    "\n",
    "#create an app layout\n",
    "#create an app layout\n",
    "app.layout=html.Div(children=[html.H1('SpaceX Launch Records Dashboard',\n",
    "                             style={'textAlign':'center', 'color':'#503D36','font-size':40}),\n",
    "                              # Add a dropdown list to enable Launch Site selection\n",
    "                              dcc.Dropdown(id='site-dropdown',\n",
    "                                           options=[\n",
    "                                               {'label':'All Sites', 'value':'All'},\n",
    "                                               {'label':'CCAFS LC-40','value':'CCAFS LC-40'},\n",
    "                                               {'label':'VAFB SLC-4E', 'value':'VAFB SLC-4E'},\n",
    "                                               {'label':'KSC LC-39A', 'value':'KSC LC-39A'},\n",
    "                                               {'label':'CCAFS SLC-40', 'value':'CCAFS SLC-40'}\n",
    "                                           ],\n",
    "                                           value='ALL',\n",
    "                                           placeholder=\"Select a Launch Site here\",\n",
    "                                           searchable=True\n",
    "                                          ),\n",
    "                             html.Br(),\n",
    "\n",
    "                                # TASK 2: Add a pie chart to show the total successful launches count for all sites\n",
    "                                # If a specific launch site was selected, show the Success vs. Failed counts for the site\n",
    "                                html.Div(dcc.Graph(id='success-pie-chart')),\n",
    "                                html.Br(),\n",
    "\n",
    "                                html.P(\"Payload range (Kg):\"),\n",
    "                                # TASK 3: Add a slider to select payload range\n",
    "                                dcc.RangeSlider(id='payload-slider',\n",
    "                                min=0,\n",
    "                                max=10000,\n",
    "                                step=1000,\n",
    "                                value=[min_payload,max_payload],\n",
    "                                marks={\n",
    "                                0: '0 kg',\n",
    "                                2500: '2500',\n",
    "                                5000: '5000',\n",
    "                                7500: '7500',\n",
    "                                10000: '10000'\n",
    "                                }),\n",
    "\n",
    "                                # TASK 4: Add a scatter chart to show the correlation between payload and launch success\n",
    "                                html.Div(dcc.Graph(id='success-payload-scatter-chart')),\n",
    "                                ])\n",
    " #TASK 2: Add a callback function to render success-pie-chart based on selected site dropdown\n",
    "\n",
    "# Function decorator to specify function input and output\n",
    "@app.callback(Output(component_id='success-pie-chart', component_property='figure'),\n",
    "              Input(component_id='site-dropdown', component_property='value'))\n",
    "def get_pie(value):\n",
    "    filtered_df = spacex_df\n",
    "    if value == 'All':\n",
    "        fig = px.pie(filtered_df, values='class', names='Launch Site', title='Total Success Launches By Site')\n",
    "        return fig\n",
    "\n",
    "    else:\n",
    "        filtered_df = spacex_df[spacex_df['Launch Site'] == value].groupby(['Launch Site', 'class']). \\\n",
    "        size().reset_index(name='class count')\n",
    "        title = f\"Total Success Launches for site {value}\"\n",
    "        fig = px.pie(filtered_df,values='class count', names='class', title=title)\n",
    "        return fig\n",
    "\n",
    "#TASK 3: Add a Range Slider to Select Payload\n",
    "                              \n",
    "         \n",
    "\n",
    "#TASK 4: Add a callback function to render the success-payload-scatter-chart scatter plot    \n",
    "@app.callback(Output(component_id='success-payload-scatter-chart', component_property='figure'),\n",
    "              [Input(component_id='site-dropdown', component_property='value'),\n",
    "               Input(component_id='payload-slider', component_property='value')])\n",
    "def get_scatter_chart(selected_site, payload_range):\n",
    "    low, high = payload_range\n",
    "    if selected_site == 'All':\n",
    "        df = spacex_df\n",
    "    else:\n",
    "        df = spacex_df[spacex_df['Launch Site'] == selected_site]\n",
    "\n",
    "    df_mask = df[(df['Payload Mass (kg)'] >= low) & (df['Payload Mass (kg)'] <= high)]\n",
    "\n",
    "    fig = px.scatter(df_mask, x='Payload Mass (kg)', y='class', color='Booster Version Category',\n",
    "                     title='Correlation between Payload and Success')\n",
    "    \n",
    "    return fig           \n",
    "\n",
    "                            \n",
    "                              \n",
    "if __name__ == '__main__':\n",
    "    app.run_server()                                                                  "
   ]
  },
  {
   "cell_type": "code",
   "execution_count": null,
   "id": "7b3043f8-64e5-470c-8cb1-4a872fde2087",
   "metadata": {},
   "outputs": [],
   "source": []
  }
 ],
 "metadata": {
  "kernelspec": {
   "display_name": "Python 3 (ipykernel)",
   "language": "python",
   "name": "python3"
  },
  "language_info": {
   "codemirror_mode": {
    "name": "ipython",
    "version": 3
   },
   "file_extension": ".py",
   "mimetype": "text/x-python",
   "name": "python",
   "nbconvert_exporter": "python",
   "pygments_lexer": "ipython3",
   "version": "3.11.5"
  }
 },
 "nbformat": 4,
 "nbformat_minor": 5
}
